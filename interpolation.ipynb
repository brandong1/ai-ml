{
 "cells": [
  {
   "cell_type": "code",
   "execution_count": 1,
   "id": "a237f14c-cdd0-41ab-912d-95f8dabe95ff",
   "metadata": {},
   "outputs": [
    {
     "data": {
      "text/plain": [
       "'My word is: Camera'"
      ]
     },
     "execution_count": 1,
     "metadata": {},
     "output_type": "execute_result"
    }
   ],
   "source": [
    "word = \"Camera\"\n",
    "f\"My word is: {word}\""
   ]
  },
  {
   "cell_type": "code",
   "execution_count": 3,
   "id": "8002f52c-c598-4c0f-ba93-1b128ec393be",
   "metadata": {},
   "outputs": [],
   "source": [
    "my_name = \"Brandon\""
   ]
  },
  {
   "cell_type": "code",
   "execution_count": 5,
   "id": "491499bd-6873-43db-acc7-644ad5f6b80c",
   "metadata": {},
   "outputs": [
    {
     "data": {
      "text/plain": [
       "'Hi, my name is Brandon'"
      ]
     },
     "execution_count": 5,
     "metadata": {},
     "output_type": "execute_result"
    }
   ],
   "source": [
    "f\"Hi, my name is {my_name}\""
   ]
  },
  {
   "cell_type": "code",
   "execution_count": 9,
   "id": "f82f6fab-3f69-43c8-bcbe-dee6f0e3743b",
   "metadata": {},
   "outputs": [
    {
     "data": {
      "text/plain": [
       "'Hi my name is Brandon'"
      ]
     },
     "execution_count": 9,
     "metadata": {},
     "output_type": "execute_result"
    }
   ],
   "source": [
    "f\"Hi my name is {my_name}\""
   ]
  },
  {
   "cell_type": "code",
   "execution_count": 11,
   "id": "ca54122a-7272-41e2-955e-e545a7698865",
   "metadata": {},
   "outputs": [
    {
     "data": {
      "text/plain": [
       "True"
      ]
     },
     "execution_count": 11,
     "metadata": {},
     "output_type": "execute_result"
    }
   ],
   "source": [
    "\"hi\" in \"high\""
   ]
  },
  {
   "cell_type": "code",
   "execution_count": 13,
   "id": "490ea561-4f40-4ba7-be6b-da22cf5dda59",
   "metadata": {},
   "outputs": [],
   "source": [
    "quote = \"Oh I gotta get on that internet, I'm late on everything!\""
   ]
  },
  {
   "cell_type": "code",
   "execution_count": 21,
   "id": "9d5d7428-a720-4626-a149-2a131b5bd2c2",
   "metadata": {},
   "outputs": [],
   "source": [
    "quote = quote.lower().replace(\",\", \"\").replace(\"!\", \"\").replace(\"'\", \"\")"
   ]
  },
  {
   "cell_type": "code",
   "execution_count": 23,
   "id": "58a03ff1-63bd-4cff-b124-654b3e1afc55",
   "metadata": {},
   "outputs": [
    {
     "data": {
      "text/plain": [
       "'oh i gotta get on that internet im late on everything'"
      ]
     },
     "execution_count": 23,
     "metadata": {},
     "output_type": "execute_result"
    }
   ],
   "source": [
    "quote"
   ]
  },
  {
   "cell_type": "code",
   "execution_count": null,
   "id": "9a18c0b7-514e-46df-bef5-1dbd2dec8e6c",
   "metadata": {},
   "outputs": [],
   "source": []
  }
 ],
 "metadata": {
  "kernelspec": {
   "display_name": ".conda-ANA_PY_COURSE",
   "language": "python",
   "name": "conda-env-.conda-ANA_PY_COURSE-py"
  },
  "language_info": {
   "codemirror_mode": {
    "name": "ipython",
    "version": 3
   },
   "file_extension": ".py",
   "mimetype": "text/x-python",
   "name": "python",
   "nbconvert_exporter": "python",
   "pygments_lexer": "ipython3",
   "version": "3.9.19"
  }
 },
 "nbformat": 4,
 "nbformat_minor": 5
}
